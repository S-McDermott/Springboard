{
 "cells": [
  {
   "cell_type": "markdown",
   "metadata": {},
   "source": [
    "This exercise will require you to pull some data from the Qunadl API. Qaundl is currently the most widely used aggregator of financial market data."
   ]
  },
  {
   "cell_type": "markdown",
   "metadata": {},
   "source": [
    "As a first step, you will need to register a free account on the http://www.quandl.com website."
   ]
  },
  {
   "cell_type": "markdown",
   "metadata": {},
   "source": [
    "After you register, you will be provided with a unique API key, that you should store:"
   ]
  },
  {
   "cell_type": "code",
   "execution_count": 1,
   "metadata": {},
   "outputs": [],
   "source": [
    "# Store the API key as a string - according to PEP8, constants are always named in all upper case\n",
    "API_KEY = ' '"
   ]
  },
  {
   "cell_type": "markdown",
   "metadata": {},
   "source": [
    "Qaundl has a large number of data sources, but, unfortunately, most of them require a Premium subscription. Still, there are also a good number of free datasets."
   ]
  },
  {
   "cell_type": "markdown",
   "metadata": {},
   "source": [
    "For this mini project, we will focus on equities data from the Frankfurt Stock Exhange (FSE), which is available for free. We'll try and analyze the stock prices of a company called Carl Zeiss Meditec, which manufactures tools for eye examinations, as well as medical lasers for laser eye surgery: https://www.zeiss.com/meditec/int/home.html. The company is listed under the stock ticker AFX_X."
   ]
  },
  {
   "cell_type": "markdown",
   "metadata": {},
   "source": [
    "You can find the detailed Quandl API instructions here: https://docs.quandl.com/docs/time-series"
   ]
  },
  {
   "cell_type": "markdown",
   "metadata": {},
   "source": [
    "While there is a dedicated Python package for connecting to the Quandl API, we would prefer that you use the *requests* package, which can be easily downloaded using *pip* or *conda*. You can find the documentation for the package here: http://docs.python-requests.org/en/master/ "
   ]
  },
  {
   "cell_type": "markdown",
   "metadata": {},
   "source": [
    "Finally, apart from the *requests* package, you are encouraged to not use any third party Python packages, such as *pandas*, and instead focus on what's available in the Python Standard Library (the *collections* module might come in handy: https://pymotw.com/3/collections/ ).\n",
    "Also, since you won't have access to DataFrames, you are encouraged to us Python's native data structures - preferably dictionaries, though some questions can also be answered using lists.\n",
    "You can read more on these data structures here: https://docs.python.org/3/tutorial/datastructures.html"
   ]
  },
  {
   "cell_type": "markdown",
   "metadata": {},
   "source": [
    "Keep in mind that the JSON responses you will be getting from the API map almost one-to-one to Python's dictionaries. Unfortunately, they can be very nested, so make sure you read up on indexing dictionaries in the documentation provided above."
   ]
  },
  {
   "cell_type": "code",
   "execution_count": 2,
   "metadata": {},
   "outputs": [],
   "source": [
    "# First, import the relevant modules\n",
    "import requests\n"
   ]
  },
  {
   "cell_type": "code",
   "execution_count": 3,
   "metadata": {},
   "outputs": [],
   "source": [
    "# Now, call the Quandl API and pull out a small sample of the data (only one day) to get a glimpse\n",
    "# into the JSON structure that will be returned\n",
    "url = \"https://www.quandl.com/api/v3/datasets/FSE/AFX_X/data.json?rows=10&start_date=2017-01-01&end_date=2017-01-02api_key=API_KEY\"\n",
    "r = requests.get(url)"
   ]
  },
  {
   "cell_type": "code",
   "execution_count": 4,
   "metadata": {},
   "outputs": [
    {
     "name": "stdout",
     "output_type": "stream",
     "text": [
      "{\"dataset_data\":{\"limit\":10,\"transform\":null,\"column_index\":null,\"column_names\":[\"Date\",\"Open\",\"High\",\"Low\",\"Close\",\"Change\",\"Traded Volume\",\"Turnover\",\"Last Price of the Day\",\"Daily Traded Units\",\"Daily Turnover\"],\"start_date\":\"2017-01-01\",\"end_date\":\"2017-01-02\",\"frequency\":\"daily\",\"data\":[[\"2017-01-02\",34.99,35.94,34.99,35.8,null,44700.0,1590561.0,null,null,null]],\"collapse\":null,\"order\":null}}\n"
     ]
    }
   ],
   "source": [
    "# Inspect the JSON structure of the object you created, and take note of how nested it is,\n",
    "# as well as the overall structure\n",
    "print(r.text)"
   ]
  },
  {
   "cell_type": "markdown",
   "metadata": {},
   "source": [
    "These are your tasks for this mini project:\n",
    "\n",
    "1. Collect data from the Franfurt Stock Exchange, for the ticker AFX_X, for the whole year 2017 (keep in mind that the date format is YYYY-MM-DD).\n",
    "2. Convert the returned JSON object into a Python dictionary.\n",
    "3. Calculate what the highest and lowest opening prices were for the stock in this period.\n",
    "4. What was the largest change in any one day (based on High and Low price)?\n",
    "5. What was the largest change between any two days (based on Closing Price)?\n",
    "6. What was the average daily trading volume during this year?\n",
    "7. (Optional) What was the median trading volume during this year. (Note: you may need to implement your own function for calculating the median.)"
   ]
  },
  {
   "cell_type": "code",
   "execution_count": 5,
   "metadata": {},
   "outputs": [],
   "source": [
    "# Collecting data for the year of 2017\n",
    "url = \"https://www.quandl.com/api/v3/datasets/FSE/AFX_X/data.json?rows=10&start_date=2017-01-01&end_date=2017-12-31api_key=hK6Hybe6Zg9-4MgdTyJC\"\n",
    "r = requests.get(url)"
   ]
  },
  {
   "cell_type": "code",
   "execution_count": 6,
   "metadata": {},
   "outputs": [],
   "source": [
    "# convert JSON into Python dict\n",
    "json_data = r.json()"
   ]
  },
  {
   "cell_type": "code",
   "execution_count": 7,
   "metadata": {},
   "outputs": [],
   "source": [
    "dataList = json_data['dataset_data']['data']"
   ]
  },
  {
   "cell_type": "code",
   "execution_count": 8,
   "metadata": {},
   "outputs": [
    {
     "name": "stdout",
     "output_type": "stream",
     "text": [
      "['2017-12-29', 51.76, 51.94, 51.45, 51.76, None, 34640.0, 1792304.0, None, None, None]\n",
      "['2017-12-28', 51.65, 51.82, 51.43, 51.6, None, 40660.0, 2099024.0, None, None, None]\n",
      "['2017-12-27', 51.45, 51.89, 50.76, 51.82, None, 57452.0, 2957018.0, None, None, None]\n",
      "['2017-12-22', 51.05, 51.5, 50.92, 51.32, None, 71165.0, 3641949.0, None, None, None]\n",
      "['2017-12-21', 51.16, 51.52, 50.9, 51.4, None, 120649.0, 6179433.0, None, None, None]\n",
      "['2017-12-20', 51.88, 52.04, 51.2, 51.27, None, 50587.0, 2610258.0, None, None, None]\n",
      "['2017-12-19', 52.73, 52.73, 51.07, 51.66, None, 137313.0, 7102361.0, None, None, None]\n",
      "['2017-12-18', 52.37, 52.75, 51.61, 52.62, None, 129733.0, 6770499.0, None, None, None]\n",
      "['2017-12-15', 52.7, 52.7, 51.64, 52.01, None, 204080.0, 10596319.0, None, None, None]\n",
      "['2017-12-14', 53.11, 53.54, 52.15, 52.67, None, 132981.0, 7016953.0, None, None, None]\n"
     ]
    }
   ],
   "source": [
    "for k in dataList:\n",
    "    print(k)"
   ]
  },
  {
   "cell_type": "code",
   "execution_count": 9,
   "metadata": {},
   "outputs": [
    {
     "name": "stdout",
     "output_type": "stream",
     "text": [
      "[51.76, 51.65, 51.45, 51.05, 51.16, 51.88, 52.73, 52.37, 52.7, 53.11]\n"
     ]
    }
   ],
   "source": [
    "# make a list of 2017 opening prices\n",
    "opening = []\n",
    "for k in dataList:\n",
    "    opening.append(k[1])\n",
    "print(opening)"
   ]
  },
  {
   "cell_type": "code",
   "execution_count": 10,
   "metadata": {},
   "outputs": [],
   "source": [
    "# find date of max opening price and min opening price \n",
    "dateMax = dataList[opening.index(max(opening))][0]\n",
    "dateMin = dataList[opening.index(min(opening))][0]"
   ]
  },
  {
   "cell_type": "code",
   "execution_count": 11,
   "metadata": {},
   "outputs": [
    {
     "name": "stdout",
     "output_type": "stream",
     "text": [
      "The highest opening price was: 53.11 on 2017-12-14\n",
      "The lowest opening price was: 51.05 on 2017-12-22\n"
     ]
    }
   ],
   "source": [
    "# highest opening price\n",
    "print('The highest opening price was: '+ str(max(opening))+' on '+ str(dateMax))\n",
    "\n",
    "# lowest opening price\n",
    "print('The lowest opening price was: '+ str(min(opening))+ ' on '+ str(dateMin))"
   ]
  },
  {
   "cell_type": "code",
   "execution_count": 12,
   "metadata": {},
   "outputs": [
    {
     "name": "stdout",
     "output_type": "stream",
     "text": [
      "[[51.94, 51.45], [51.82, 51.43], [51.89, 50.76], [51.5, 50.92], [51.52, 50.9], [52.04, 51.2], [52.73, 51.07], [52.75, 51.61], [52.7, 51.64], [53.54, 52.15]]\n"
     ]
    }
   ],
   "source": [
    "# make list of lists [high, low]\n",
    "highLow = []\n",
    "for k in dataList:\n",
    "    highLow.append([k[2],k[3]])\n",
    "print(highLow)"
   ]
  },
  {
   "cell_type": "code",
   "execution_count": 13,
   "metadata": {},
   "outputs": [
    {
     "name": "stdout",
     "output_type": "stream",
     "text": [
      "The largest day change was on 2017-12-19 with high-low = 1.6599999999999966\n"
     ]
    }
   ],
   "source": [
    "# find which day had the biggest difference between high and low\n",
    "diff = []\n",
    "for i in highLow:\n",
    "    diff.append(i[0]-i[1])\n",
    "dateDiff = dataList[diff.index(max(diff))][0]\n",
    "print('The largest day change was on '+str(dateDiff)+ ' with high-low = '+ str(max(diff)))"
   ]
  },
  {
   "cell_type": "code",
   "execution_count": 14,
   "metadata": {},
   "outputs": [
    {
     "name": "stdout",
     "output_type": "stream",
     "text": [
      "The biggest change between two days was 0.9600000000000009 between 2017-12-19 and 2017-12-18\n"
     ]
    }
   ],
   "source": [
    "# What was the largest change between any two days (based on Closing Price)?\n",
    "# list of closing prices\n",
    "close = []\n",
    "for k in dataList:\n",
    "    close.append(k[4])\n",
    "\n",
    "# new list of differences between the days\n",
    "two_day_diff = []\n",
    "for k in range(len(close)-1):\n",
    "    value = abs(close[k+1] - close[k])\n",
    "    two_day_diff.append(value)\n",
    "\n",
    "twoDayDate1 = dataList[two_day_diff.index(max(two_day_diff))][0]\n",
    "twoDayDate2 = dataList[two_day_diff.index(max(two_day_diff))+1][0]\n",
    "\n",
    "print('The biggest change between two days was '+str(max(two_day_diff))+ ' between '+str(twoDayDate1)+ ' and '+str(twoDayDate2))"
   ]
  },
  {
   "cell_type": "code",
   "execution_count": 15,
   "metadata": {},
   "outputs": [
    {
     "name": "stdout",
     "output_type": "stream",
     "text": [
      "The average trading volumn is 97926.0\n"
     ]
    }
   ],
   "source": [
    "# What was the average daily trading volume during this year? 6 \n",
    "# create list for trading volumn\n",
    "tradeVol = []\n",
    "for k in dataList:\n",
    "    tradeVol.append(k[6])\n",
    "# use sum() and len() to calculate mean\n",
    "print('The average trading volumn is '+ str(sum(tradeVol)/len(tradeVol)))"
   ]
  },
  {
   "cell_type": "code",
   "execution_count": 16,
   "metadata": {},
   "outputs": [
    {
     "name": "stdout",
     "output_type": "stream",
     "text": [
      "The median trading volumn is 95907.0\n"
     ]
    }
   ],
   "source": [
    "# (Optional) What was the median trading volume during this year. \n",
    "# Note: you may need to implement your own function for calculating the median.\n",
    "# start by sorting the list of trading volumn\n",
    "tradeVol.sort()\n",
    "\n",
    "if len(tradeVol)%2 == 0:\n",
    "    middlePt = int(len(tradeVol)/2)\n",
    "    median = (tradeVol[middlePt]+tradeVol[middlePt-1])/2\n",
    "elif len(tradeVol)%2 != 0:\n",
    "    middlePt = round(len(tradeVol)/2)\n",
    "    median = tradeVol[middlePt]\n",
    "print('The median trading volumn is '+ str(median))"
   ]
  },
  {
   "cell_type": "code",
   "execution_count": null,
   "metadata": {},
   "outputs": [],
   "source": []
  }
 ],
 "metadata": {
  "kernelspec": {
   "display_name": "Python 3",
   "language": "python",
   "name": "python3"
  },
  "language_info": {
   "codemirror_mode": {
    "name": "ipython",
    "version": 3
   },
   "file_extension": ".py",
   "mimetype": "text/x-python",
   "name": "python",
   "nbconvert_exporter": "python",
   "pygments_lexer": "ipython3",
   "version": "3.8.5"
  }
 },
 "nbformat": 4,
 "nbformat_minor": 2
}
