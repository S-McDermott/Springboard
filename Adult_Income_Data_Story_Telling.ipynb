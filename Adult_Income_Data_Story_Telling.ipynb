{
  "nbformat": 4,
  "nbformat_minor": 0,
  "metadata": {
    "kernelspec": {
      "display_name": "Python 3",
      "language": "python",
      "name": "python3"
    },
    "language_info": {
      "codemirror_mode": {
        "name": "ipython",
        "version": 3
      },
      "file_extension": ".py",
      "mimetype": "text/x-python",
      "name": "python",
      "nbconvert_exporter": "python",
      "pygments_lexer": "ipython3",
      "version": "3.8.5"
    },
    "colab": {
      "name": "Adult_Income_Data_Story_Telling.ipynb",
      "provenance": [],
      "toc_visible": true
    }
  },
  "cells": [
    {
      "cell_type": "markdown",
      "metadata": {
        "id": "Xq-0wgWvnEan"
      },
      "source": [
        "# Adult Income: Who makes more than $50K?"
      ]
    },
    {
      "cell_type": "markdown",
      "metadata": {
        "id": "ir9X4p4AnQlV"
      },
      "source": [
        "## Imports"
      ]
    },
    {
      "cell_type": "code",
      "metadata": {
        "id": "2LQp9F1Ymi8F"
      },
      "source": [
        "import numpy as np\n",
        "import pandas as pd\n",
        "import matplotlib.pyplot as plt\n",
        "import seaborn as sns"
      ],
      "execution_count": 1,
      "outputs": []
    },
    {
      "cell_type": "markdown",
      "metadata": {
        "id": "vB6hkjM8nbKF"
      },
      "source": [
        "## Load Data"
      ]
    },
    {
      "cell_type": "code",
      "metadata": {
        "id": "8qb-km1Dmi8R"
      },
      "source": [
        "df = pd.read_csv('adult.csv.zip')"
      ],
      "execution_count": 2,
      "outputs": []
    },
    {
      "cell_type": "markdown",
      "metadata": {
        "id": "uuUXQONWnhMp"
      },
      "source": [
        "## Explore the Data"
      ]
    },
    {
      "cell_type": "code",
      "metadata": {
        "colab": {
          "base_uri": "https://localhost:8080/",
          "height": 395
        },
        "id": "n1U1vRYumi8S",
        "outputId": "d16d9abd-07de-44c1-8719-f7d22d83723b"
      },
      "source": [
        "df.head()"
      ],
      "execution_count": 3,
      "outputs": [
        {
          "output_type": "execute_result",
          "data": {
            "text/html": [
              "<div>\n",
              "<style scoped>\n",
              "    .dataframe tbody tr th:only-of-type {\n",
              "        vertical-align: middle;\n",
              "    }\n",
              "\n",
              "    .dataframe tbody tr th {\n",
              "        vertical-align: top;\n",
              "    }\n",
              "\n",
              "    .dataframe thead th {\n",
              "        text-align: right;\n",
              "    }\n",
              "</style>\n",
              "<table border=\"1\" class=\"dataframe\">\n",
              "  <thead>\n",
              "    <tr style=\"text-align: right;\">\n",
              "      <th></th>\n",
              "      <th>age</th>\n",
              "      <th>workclass</th>\n",
              "      <th>fnlwgt</th>\n",
              "      <th>education</th>\n",
              "      <th>educational-num</th>\n",
              "      <th>marital-status</th>\n",
              "      <th>occupation</th>\n",
              "      <th>relationship</th>\n",
              "      <th>race</th>\n",
              "      <th>gender</th>\n",
              "      <th>capital-gain</th>\n",
              "      <th>capital-loss</th>\n",
              "      <th>hours-per-week</th>\n",
              "      <th>native-country</th>\n",
              "      <th>income</th>\n",
              "    </tr>\n",
              "  </thead>\n",
              "  <tbody>\n",
              "    <tr>\n",
              "      <th>0</th>\n",
              "      <td>25</td>\n",
              "      <td>Private</td>\n",
              "      <td>226802</td>\n",
              "      <td>11th</td>\n",
              "      <td>7</td>\n",
              "      <td>Never-married</td>\n",
              "      <td>Machine-op-inspct</td>\n",
              "      <td>Own-child</td>\n",
              "      <td>Black</td>\n",
              "      <td>Male</td>\n",
              "      <td>0</td>\n",
              "      <td>0</td>\n",
              "      <td>40</td>\n",
              "      <td>United-States</td>\n",
              "      <td>&lt;=50K</td>\n",
              "    </tr>\n",
              "    <tr>\n",
              "      <th>1</th>\n",
              "      <td>38</td>\n",
              "      <td>Private</td>\n",
              "      <td>89814</td>\n",
              "      <td>HS-grad</td>\n",
              "      <td>9</td>\n",
              "      <td>Married-civ-spouse</td>\n",
              "      <td>Farming-fishing</td>\n",
              "      <td>Husband</td>\n",
              "      <td>White</td>\n",
              "      <td>Male</td>\n",
              "      <td>0</td>\n",
              "      <td>0</td>\n",
              "      <td>50</td>\n",
              "      <td>United-States</td>\n",
              "      <td>&lt;=50K</td>\n",
              "    </tr>\n",
              "    <tr>\n",
              "      <th>2</th>\n",
              "      <td>28</td>\n",
              "      <td>Local-gov</td>\n",
              "      <td>336951</td>\n",
              "      <td>Assoc-acdm</td>\n",
              "      <td>12</td>\n",
              "      <td>Married-civ-spouse</td>\n",
              "      <td>Protective-serv</td>\n",
              "      <td>Husband</td>\n",
              "      <td>White</td>\n",
              "      <td>Male</td>\n",
              "      <td>0</td>\n",
              "      <td>0</td>\n",
              "      <td>40</td>\n",
              "      <td>United-States</td>\n",
              "      <td>&gt;50K</td>\n",
              "    </tr>\n",
              "    <tr>\n",
              "      <th>3</th>\n",
              "      <td>44</td>\n",
              "      <td>Private</td>\n",
              "      <td>160323</td>\n",
              "      <td>Some-college</td>\n",
              "      <td>10</td>\n",
              "      <td>Married-civ-spouse</td>\n",
              "      <td>Machine-op-inspct</td>\n",
              "      <td>Husband</td>\n",
              "      <td>Black</td>\n",
              "      <td>Male</td>\n",
              "      <td>7688</td>\n",
              "      <td>0</td>\n",
              "      <td>40</td>\n",
              "      <td>United-States</td>\n",
              "      <td>&gt;50K</td>\n",
              "    </tr>\n",
              "    <tr>\n",
              "      <th>4</th>\n",
              "      <td>18</td>\n",
              "      <td>?</td>\n",
              "      <td>103497</td>\n",
              "      <td>Some-college</td>\n",
              "      <td>10</td>\n",
              "      <td>Never-married</td>\n",
              "      <td>?</td>\n",
              "      <td>Own-child</td>\n",
              "      <td>White</td>\n",
              "      <td>Female</td>\n",
              "      <td>0</td>\n",
              "      <td>0</td>\n",
              "      <td>30</td>\n",
              "      <td>United-States</td>\n",
              "      <td>&lt;=50K</td>\n",
              "    </tr>\n",
              "  </tbody>\n",
              "</table>\n",
              "</div>"
            ],
            "text/plain": [
              "   age  workclass  fnlwgt  ... hours-per-week  native-country income\n",
              "0   25    Private  226802  ...             40   United-States  <=50K\n",
              "1   38    Private   89814  ...             50   United-States  <=50K\n",
              "2   28  Local-gov  336951  ...             40   United-States   >50K\n",
              "3   44    Private  160323  ...             40   United-States   >50K\n",
              "4   18          ?  103497  ...             30   United-States  <=50K\n",
              "\n",
              "[5 rows x 15 columns]"
            ]
          },
          "metadata": {
            "tags": []
          },
          "execution_count": 3
        }
      ]
    },
    {
      "cell_type": "markdown",
      "metadata": {
        "id": "frOjALhjoHfs"
      },
      "source": [
        "At first glance, it looks like there is missing data in this dataset. There are '?' in at least the workclass and occupation columns. I am going to replace the '?' with nan and then look at missing values."
      ]
    },
    {
      "cell_type": "code",
      "metadata": {
        "id": "ilzY5aU3mi8Z"
      },
      "source": [
        "object_col = list(df.select_dtypes('object').columns)"
      ],
      "execution_count": 4,
      "outputs": []
    },
    {
      "cell_type": "code",
      "metadata": {
        "id": "eGCRPwlMmi8Z"
      },
      "source": [
        "for col in object_col:\n",
        "    df.loc[df[col]=='?', col] = np.nan\n",
        "    df.loc[df[col]=='?', col] = np.nan"
      ],
      "execution_count": 5,
      "outputs": []
    },
    {
      "cell_type": "code",
      "metadata": {
        "colab": {
          "base_uri": "https://localhost:8080/"
        },
        "id": "qu4YeuGzmi8T",
        "outputId": "1e7a8ac4-7d63-4adf-b5ef-ceb8b96296e1"
      },
      "source": [
        "df.info()"
      ],
      "execution_count": 6,
      "outputs": [
        {
          "output_type": "stream",
          "text": [
            "<class 'pandas.core.frame.DataFrame'>\n",
            "RangeIndex: 48842 entries, 0 to 48841\n",
            "Data columns (total 15 columns):\n",
            " #   Column           Non-Null Count  Dtype \n",
            "---  ------           --------------  ----- \n",
            " 0   age              48842 non-null  int64 \n",
            " 1   workclass        46043 non-null  object\n",
            " 2   fnlwgt           48842 non-null  int64 \n",
            " 3   education        48842 non-null  object\n",
            " 4   educational-num  48842 non-null  int64 \n",
            " 5   marital-status   48842 non-null  object\n",
            " 6   occupation       46033 non-null  object\n",
            " 7   relationship     48842 non-null  object\n",
            " 8   race             48842 non-null  object\n",
            " 9   gender           48842 non-null  object\n",
            " 10  capital-gain     48842 non-null  int64 \n",
            " 11  capital-loss     48842 non-null  int64 \n",
            " 12  hours-per-week   48842 non-null  int64 \n",
            " 13  native-country   47985 non-null  object\n",
            " 14  income           48842 non-null  object\n",
            "dtypes: int64(6), object(9)\n",
            "memory usage: 5.6+ MB\n"
          ],
          "name": "stdout"
        }
      ]
    },
    {
      "cell_type": "code",
      "metadata": {
        "colab": {
          "base_uri": "https://localhost:8080/"
        },
        "id": "XaO3_1dcmi8a",
        "outputId": "45d30a2f-5bdc-4ef8-d551-c1060dca1359"
      },
      "source": [
        "df.isna().sum()"
      ],
      "execution_count": 7,
      "outputs": [
        {
          "output_type": "execute_result",
          "data": {
            "text/plain": [
              "age                   0\n",
              "workclass          2799\n",
              "fnlwgt                0\n",
              "education             0\n",
              "educational-num       0\n",
              "marital-status        0\n",
              "occupation         2809\n",
              "relationship          0\n",
              "race                  0\n",
              "gender                0\n",
              "capital-gain          0\n",
              "capital-loss          0\n",
              "hours-per-week        0\n",
              "native-country      857\n",
              "income                0\n",
              "dtype: int64"
            ]
          },
          "metadata": {
            "tags": []
          },
          "execution_count": 7
        }
      ]
    },
    {
      "cell_type": "markdown",
      "metadata": {
        "id": "iS32G5stqtLY"
      },
      "source": [
        "Are these missing values in the same rows?"
      ]
    },
    {
      "cell_type": "code",
      "metadata": {
        "colab": {
          "base_uri": "https://localhost:8080/",
          "height": 746
        },
        "id": "T_usQVFLqKGN",
        "outputId": "5ca765f2-2c86-4b06-dd9c-d470b339c957"
      },
      "source": [
        "df[(df['workclass'].isna()) & (df['occupation'].isna())]"
      ],
      "execution_count": 8,
      "outputs": [
        {
          "output_type": "execute_result",
          "data": {
            "text/html": [
              "<div>\n",
              "<style scoped>\n",
              "    .dataframe tbody tr th:only-of-type {\n",
              "        vertical-align: middle;\n",
              "    }\n",
              "\n",
              "    .dataframe tbody tr th {\n",
              "        vertical-align: top;\n",
              "    }\n",
              "\n",
              "    .dataframe thead th {\n",
              "        text-align: right;\n",
              "    }\n",
              "</style>\n",
              "<table border=\"1\" class=\"dataframe\">\n",
              "  <thead>\n",
              "    <tr style=\"text-align: right;\">\n",
              "      <th></th>\n",
              "      <th>age</th>\n",
              "      <th>workclass</th>\n",
              "      <th>fnlwgt</th>\n",
              "      <th>education</th>\n",
              "      <th>educational-num</th>\n",
              "      <th>marital-status</th>\n",
              "      <th>occupation</th>\n",
              "      <th>relationship</th>\n",
              "      <th>race</th>\n",
              "      <th>gender</th>\n",
              "      <th>capital-gain</th>\n",
              "      <th>capital-loss</th>\n",
              "      <th>hours-per-week</th>\n",
              "      <th>native-country</th>\n",
              "      <th>income</th>\n",
              "    </tr>\n",
              "  </thead>\n",
              "  <tbody>\n",
              "    <tr>\n",
              "      <th>4</th>\n",
              "      <td>18</td>\n",
              "      <td>NaN</td>\n",
              "      <td>103497</td>\n",
              "      <td>Some-college</td>\n",
              "      <td>10</td>\n",
              "      <td>Never-married</td>\n",
              "      <td>NaN</td>\n",
              "      <td>Own-child</td>\n",
              "      <td>White</td>\n",
              "      <td>Female</td>\n",
              "      <td>0</td>\n",
              "      <td>0</td>\n",
              "      <td>30</td>\n",
              "      <td>United-States</td>\n",
              "      <td>&lt;=50K</td>\n",
              "    </tr>\n",
              "    <tr>\n",
              "      <th>6</th>\n",
              "      <td>29</td>\n",
              "      <td>NaN</td>\n",
              "      <td>227026</td>\n",
              "      <td>HS-grad</td>\n",
              "      <td>9</td>\n",
              "      <td>Never-married</td>\n",
              "      <td>NaN</td>\n",
              "      <td>Unmarried</td>\n",
              "      <td>Black</td>\n",
              "      <td>Male</td>\n",
              "      <td>0</td>\n",
              "      <td>0</td>\n",
              "      <td>40</td>\n",
              "      <td>United-States</td>\n",
              "      <td>&lt;=50K</td>\n",
              "    </tr>\n",
              "    <tr>\n",
              "      <th>13</th>\n",
              "      <td>58</td>\n",
              "      <td>NaN</td>\n",
              "      <td>299831</td>\n",
              "      <td>HS-grad</td>\n",
              "      <td>9</td>\n",
              "      <td>Married-civ-spouse</td>\n",
              "      <td>NaN</td>\n",
              "      <td>Husband</td>\n",
              "      <td>White</td>\n",
              "      <td>Male</td>\n",
              "      <td>0</td>\n",
              "      <td>0</td>\n",
              "      <td>35</td>\n",
              "      <td>United-States</td>\n",
              "      <td>&lt;=50K</td>\n",
              "    </tr>\n",
              "    <tr>\n",
              "      <th>22</th>\n",
              "      <td>72</td>\n",
              "      <td>NaN</td>\n",
              "      <td>132015</td>\n",
              "      <td>7th-8th</td>\n",
              "      <td>4</td>\n",
              "      <td>Divorced</td>\n",
              "      <td>NaN</td>\n",
              "      <td>Not-in-family</td>\n",
              "      <td>White</td>\n",
              "      <td>Female</td>\n",
              "      <td>0</td>\n",
              "      <td>0</td>\n",
              "      <td>6</td>\n",
              "      <td>United-States</td>\n",
              "      <td>&lt;=50K</td>\n",
              "    </tr>\n",
              "    <tr>\n",
              "      <th>35</th>\n",
              "      <td>65</td>\n",
              "      <td>NaN</td>\n",
              "      <td>191846</td>\n",
              "      <td>HS-grad</td>\n",
              "      <td>9</td>\n",
              "      <td>Married-civ-spouse</td>\n",
              "      <td>NaN</td>\n",
              "      <td>Husband</td>\n",
              "      <td>White</td>\n",
              "      <td>Male</td>\n",
              "      <td>0</td>\n",
              "      <td>0</td>\n",
              "      <td>40</td>\n",
              "      <td>United-States</td>\n",
              "      <td>&lt;=50K</td>\n",
              "    </tr>\n",
              "    <tr>\n",
              "      <th>...</th>\n",
              "      <td>...</td>\n",
              "      <td>...</td>\n",
              "      <td>...</td>\n",
              "      <td>...</td>\n",
              "      <td>...</td>\n",
              "      <td>...</td>\n",
              "      <td>...</td>\n",
              "      <td>...</td>\n",
              "      <td>...</td>\n",
              "      <td>...</td>\n",
              "      <td>...</td>\n",
              "      <td>...</td>\n",
              "      <td>...</td>\n",
              "      <td>...</td>\n",
              "      <td>...</td>\n",
              "    </tr>\n",
              "    <tr>\n",
              "      <th>48811</th>\n",
              "      <td>35</td>\n",
              "      <td>NaN</td>\n",
              "      <td>320084</td>\n",
              "      <td>Bachelors</td>\n",
              "      <td>13</td>\n",
              "      <td>Married-civ-spouse</td>\n",
              "      <td>NaN</td>\n",
              "      <td>Wife</td>\n",
              "      <td>White</td>\n",
              "      <td>Female</td>\n",
              "      <td>0</td>\n",
              "      <td>0</td>\n",
              "      <td>55</td>\n",
              "      <td>United-States</td>\n",
              "      <td>&gt;50K</td>\n",
              "    </tr>\n",
              "    <tr>\n",
              "      <th>48812</th>\n",
              "      <td>30</td>\n",
              "      <td>NaN</td>\n",
              "      <td>33811</td>\n",
              "      <td>Bachelors</td>\n",
              "      <td>13</td>\n",
              "      <td>Never-married</td>\n",
              "      <td>NaN</td>\n",
              "      <td>Not-in-family</td>\n",
              "      <td>Asian-Pac-Islander</td>\n",
              "      <td>Female</td>\n",
              "      <td>0</td>\n",
              "      <td>0</td>\n",
              "      <td>99</td>\n",
              "      <td>United-States</td>\n",
              "      <td>&lt;=50K</td>\n",
              "    </tr>\n",
              "    <tr>\n",
              "      <th>48820</th>\n",
              "      <td>71</td>\n",
              "      <td>NaN</td>\n",
              "      <td>287372</td>\n",
              "      <td>Doctorate</td>\n",
              "      <td>16</td>\n",
              "      <td>Married-civ-spouse</td>\n",
              "      <td>NaN</td>\n",
              "      <td>Husband</td>\n",
              "      <td>White</td>\n",
              "      <td>Male</td>\n",
              "      <td>0</td>\n",
              "      <td>0</td>\n",
              "      <td>10</td>\n",
              "      <td>United-States</td>\n",
              "      <td>&gt;50K</td>\n",
              "    </tr>\n",
              "    <tr>\n",
              "      <th>48822</th>\n",
              "      <td>41</td>\n",
              "      <td>NaN</td>\n",
              "      <td>202822</td>\n",
              "      <td>HS-grad</td>\n",
              "      <td>9</td>\n",
              "      <td>Separated</td>\n",
              "      <td>NaN</td>\n",
              "      <td>Not-in-family</td>\n",
              "      <td>Black</td>\n",
              "      <td>Female</td>\n",
              "      <td>0</td>\n",
              "      <td>0</td>\n",
              "      <td>32</td>\n",
              "      <td>United-States</td>\n",
              "      <td>&lt;=50K</td>\n",
              "    </tr>\n",
              "    <tr>\n",
              "      <th>48823</th>\n",
              "      <td>72</td>\n",
              "      <td>NaN</td>\n",
              "      <td>129912</td>\n",
              "      <td>HS-grad</td>\n",
              "      <td>9</td>\n",
              "      <td>Married-civ-spouse</td>\n",
              "      <td>NaN</td>\n",
              "      <td>Husband</td>\n",
              "      <td>White</td>\n",
              "      <td>Male</td>\n",
              "      <td>0</td>\n",
              "      <td>0</td>\n",
              "      <td>25</td>\n",
              "      <td>United-States</td>\n",
              "      <td>&lt;=50K</td>\n",
              "    </tr>\n",
              "  </tbody>\n",
              "</table>\n",
              "<p>2799 rows × 15 columns</p>\n",
              "</div>"
            ],
            "text/plain": [
              "       age workclass  fnlwgt  ... hours-per-week  native-country income\n",
              "4       18       NaN  103497  ...             30   United-States  <=50K\n",
              "6       29       NaN  227026  ...             40   United-States  <=50K\n",
              "13      58       NaN  299831  ...             35   United-States  <=50K\n",
              "22      72       NaN  132015  ...              6   United-States  <=50K\n",
              "35      65       NaN  191846  ...             40   United-States  <=50K\n",
              "...    ...       ...     ...  ...            ...             ...    ...\n",
              "48811   35       NaN  320084  ...             55   United-States   >50K\n",
              "48812   30       NaN   33811  ...             99   United-States  <=50K\n",
              "48820   71       NaN  287372  ...             10   United-States   >50K\n",
              "48822   41       NaN  202822  ...             32   United-States  <=50K\n",
              "48823   72       NaN  129912  ...             25   United-States  <=50K\n",
              "\n",
              "[2799 rows x 15 columns]"
            ]
          },
          "metadata": {
            "tags": []
          },
          "execution_count": 8
        }
      ]
    },
    {
      "cell_type": "markdown",
      "metadata": {
        "id": "DFAE8FiHrhTE"
      },
      "source": [
        "It looks like if I drop the rows with missing values, I will only lose about 3000 samples. I am going to do that now. "
      ]
    },
    {
      "cell_type": "code",
      "metadata": {
        "id": "s_O75l_Omi8b"
      },
      "source": [
        "df.dropna(inplace=True)"
      ],
      "execution_count": 9,
      "outputs": []
    },
    {
      "cell_type": "code",
      "metadata": {
        "colab": {
          "base_uri": "https://localhost:8080/",
          "height": 233
        },
        "id": "KbwQb5_UrgGh",
        "outputId": "933666e5-ee89-4b0d-ebae-b4b2c8f4fb7d"
      },
      "source": [
        "df.describe().T"
      ],
      "execution_count": 10,
      "outputs": [
        {
          "output_type": "execute_result",
          "data": {
            "text/html": [
              "<div>\n",
              "<style scoped>\n",
              "    .dataframe tbody tr th:only-of-type {\n",
              "        vertical-align: middle;\n",
              "    }\n",
              "\n",
              "    .dataframe tbody tr th {\n",
              "        vertical-align: top;\n",
              "    }\n",
              "\n",
              "    .dataframe thead th {\n",
              "        text-align: right;\n",
              "    }\n",
              "</style>\n",
              "<table border=\"1\" class=\"dataframe\">\n",
              "  <thead>\n",
              "    <tr style=\"text-align: right;\">\n",
              "      <th></th>\n",
              "      <th>count</th>\n",
              "      <th>mean</th>\n",
              "      <th>std</th>\n",
              "      <th>min</th>\n",
              "      <th>25%</th>\n",
              "      <th>50%</th>\n",
              "      <th>75%</th>\n",
              "      <th>max</th>\n",
              "    </tr>\n",
              "  </thead>\n",
              "  <tbody>\n",
              "    <tr>\n",
              "      <th>age</th>\n",
              "      <td>45222.0</td>\n",
              "      <td>38.547941</td>\n",
              "      <td>13.217870</td>\n",
              "      <td>17.0</td>\n",
              "      <td>28.00</td>\n",
              "      <td>37.0</td>\n",
              "      <td>47.0</td>\n",
              "      <td>90.0</td>\n",
              "    </tr>\n",
              "    <tr>\n",
              "      <th>fnlwgt</th>\n",
              "      <td>45222.0</td>\n",
              "      <td>189734.734311</td>\n",
              "      <td>105639.195134</td>\n",
              "      <td>13492.0</td>\n",
              "      <td>117388.25</td>\n",
              "      <td>178316.0</td>\n",
              "      <td>237926.0</td>\n",
              "      <td>1490400.0</td>\n",
              "    </tr>\n",
              "    <tr>\n",
              "      <th>educational-num</th>\n",
              "      <td>45222.0</td>\n",
              "      <td>10.118460</td>\n",
              "      <td>2.552881</td>\n",
              "      <td>1.0</td>\n",
              "      <td>9.00</td>\n",
              "      <td>10.0</td>\n",
              "      <td>13.0</td>\n",
              "      <td>16.0</td>\n",
              "    </tr>\n",
              "    <tr>\n",
              "      <th>capital-gain</th>\n",
              "      <td>45222.0</td>\n",
              "      <td>1101.430344</td>\n",
              "      <td>7506.430084</td>\n",
              "      <td>0.0</td>\n",
              "      <td>0.00</td>\n",
              "      <td>0.0</td>\n",
              "      <td>0.0</td>\n",
              "      <td>99999.0</td>\n",
              "    </tr>\n",
              "    <tr>\n",
              "      <th>capital-loss</th>\n",
              "      <td>45222.0</td>\n",
              "      <td>88.595418</td>\n",
              "      <td>404.956092</td>\n",
              "      <td>0.0</td>\n",
              "      <td>0.00</td>\n",
              "      <td>0.0</td>\n",
              "      <td>0.0</td>\n",
              "      <td>4356.0</td>\n",
              "    </tr>\n",
              "    <tr>\n",
              "      <th>hours-per-week</th>\n",
              "      <td>45222.0</td>\n",
              "      <td>40.938017</td>\n",
              "      <td>12.007508</td>\n",
              "      <td>1.0</td>\n",
              "      <td>40.00</td>\n",
              "      <td>40.0</td>\n",
              "      <td>45.0</td>\n",
              "      <td>99.0</td>\n",
              "    </tr>\n",
              "  </tbody>\n",
              "</table>\n",
              "</div>"
            ],
            "text/plain": [
              "                   count           mean  ...       75%        max\n",
              "age              45222.0      38.547941  ...      47.0       90.0\n",
              "fnlwgt           45222.0  189734.734311  ...  237926.0  1490400.0\n",
              "educational-num  45222.0      10.118460  ...      13.0       16.0\n",
              "capital-gain     45222.0    1101.430344  ...       0.0    99999.0\n",
              "capital-loss     45222.0      88.595418  ...       0.0     4356.0\n",
              "hours-per-week   45222.0      40.938017  ...      45.0       99.0\n",
              "\n",
              "[6 rows x 8 columns]"
            ]
          },
          "metadata": {
            "tags": []
          },
          "execution_count": 10
        }
      ]
    },
    {
      "cell_type": "markdown",
      "metadata": {
        "id": "ZwTyL24bvuKW"
      },
      "source": [
        "Since income is either less than 50K or more than 50K, I am going to change the values to 0 or 1 respectively."
      ]
    },
    {
      "cell_type": "code",
      "metadata": {
        "id": "-HdaZQXOmi8V"
      },
      "source": [
        "df.income.replace('<=50K', 0, inplace=True)\n",
        "df.income.replace('>50K', 1, inplace=True)"
      ],
      "execution_count": 11,
      "outputs": []
    },
    {
      "cell_type": "markdown",
      "metadata": {
        "id": "yapxbwGr-KN2"
      },
      "source": [
        "### Gender"
      ]
    },
    {
      "cell_type": "code",
      "metadata": {
        "id": "ntBwkusPfHIa"
      },
      "source": [
        "# adapted from https://datavizpyr.com/how-to-annotate-bars-in-barplot-with-matplotlib-in-python/\n",
        "def with_perc(plot, feature, Number_of_categories, hue_categories):\n",
        "    a = [p.get_height() for p in plot.patches]\n",
        "    patch = [p for p in plot.patches]\n",
        "    for i in range(Number_of_categories):\n",
        "        total = feature.value_counts().values[i]\n",
        "        for j in range(hue_categories):\n",
        "            percentage = '{:.1f}%'.format(100* a[(j*Number_of_categories + i)]/total)\n",
        "            x = patch[(j*Number_of_categories + i)].get_x() + patch[(j*Number_of_categories + i)].get_width() /3\n",
        "            y = patch[(j*Number_of_categories + i)].get_y() + patch[(j*Number_of_categories + i)].get_height() \n",
        "            ax.annotate(percentage, (x, y), size = 10)\n",
        "    plt.show()"
      ],
      "execution_count": 76,
      "outputs": []
    },
    {
      "cell_type": "code",
      "metadata": {
        "colab": {
          "base_uri": "https://localhost:8080/",
          "height": 295
        },
        "id": "eZMXPvgMfNiO",
        "outputId": "927e4d07-aa98-40ee-98b4-b0fa9411d4df"
      },
      "source": [
        "ax = sns.countplot(x='gender', data=df, hue='income')\n",
        "plt.title('Income by Gender')\n",
        "plt.legend(['less than or equal to 50K', 'greater than 50K'])\n",
        "with_perc(ax, df['gender'] ,2,2)"
      ],
      "execution_count": 77,
      "outputs": [
        {
          "output_type": "display_data",
          "data": {
            "image/png": "[encoded data removed]",
            "text/plain": [
              "<Figure size 432x288 with 1 Axes>"
            ]
          },
          "metadata": {
            "tags": [],
            "needs_background": "light"
          }
        }
      ]
    },
    {
      "cell_type": "code",
      "metadata": {
        "colab": {
          "base_uri": "https://localhost:8080/"
        },
        "id": "PZFDqvgYekQd",
        "outputId": "c003fa69-3ff6-4ca7-88fb-599fef6628d7"
      },
      "source": [
        "df.gender.value_counts()"
      ],
      "execution_count": 14,
      "outputs": [
        {
          "output_type": "execute_result",
          "data": {
            "text/plain": [
              "Male      30527\n",
              "Female    14695\n",
              "Name: gender, dtype: int64"
            ]
          },
          "metadata": {
            "tags": []
          },
          "execution_count": 14
        }
      ]
    },
    {
      "cell_type": "markdown",
      "metadata": {
        "id": "AJlAFMyDdIIB"
      },
      "source": [
        "There are twice as many males in this sample as females. When looking at the percentages out of total number of males, and total number of females seperately, you can see that 31% of males make over 50K but only 11% of females make over 50K."
      ]
    },
    {
      "cell_type": "markdown",
      "metadata": {
        "id": "z7YqONvVsSL2"
      },
      "source": [
        "## Age "
      ]
    },
    {
      "cell_type": "code",
      "metadata": {
        "colab": {
          "base_uri": "https://localhost:8080/",
          "height": 655
        },
        "id": "e2xZa_3vsACQ",
        "outputId": "8e0b334f-ca45-4ac6-acb1-f8dda3aafab6"
      },
      "source": [
        "plt.figure(figsize=(12, 8))\n",
        "ax = sns.countplot(x = 'age', hue = 'income', data = df)\n",
        "ax.legend(['less than or equal to 50K', 'greater than 50K'], loc='upper right', title='Income')\n",
        "ax.set_title('Income by age', loc='center', fontsize = 14)\n",
        "ax.set_xticks(range(0, len(new_ticks), 10))\n",
        "ax.set_xticklabels(new_ticks[::10])"
      ],
      "execution_count": 48,
      "outputs": [
        {
          "output_type": "execute_result",
          "data": {
            "text/plain": [
              "[Text(0, 0, '17'),\n",
              " Text(0, 0, '27'),\n",
              " Text(0, 0, '37'),\n",
              " Text(0, 0, '47'),\n",
              " Text(0, 0, '57'),\n",
              " Text(0, 0, '67'),\n",
              " Text(0, 0, '77'),\n",
              " Text(0, 0, '88')]"
            ]
          },
          "metadata": {
            "tags": []
          },
          "execution_count": 48
        },
        {
          "output_type": "display_data",
          "data": {
            "image/png": "[encoded data removed]",
            "text/plain": [
              "<Figure size 864x576 with 1 Axes>"
            ]
          },
          "metadata": {
            "tags": [],
            "needs_background": "light"
          }
        }
      ]
    },
    {
      "cell_type": "markdown",
      "metadata": {
        "id": "TgQ3sJGkr1mx"
      },
      "source": [
        "## Occupation"
      ]
    },
    {
      "cell_type": "code",
      "metadata": {
        "id": "XCptqwowmi8y",
        "outputId": "40602043-c51e-4d60-e487-8207a45ec3d8"
      },
      "source": [
        "# Use occupation percentage of '>50K' as order of the plot\n",
        "order = (df.occupation[df.income==1].value_counts()/df.shape[0]).index\n",
        "\n",
        "# Plotting the income by age\n",
        "plt.figure(figsize=(8,6))\n",
        "ax = sns.countplot(x = 'occupation', hue = 'income', order = order, data = df, saturation=1)\n",
        "ax.set_title('Income by Occupation', fontsize = 14)\n",
        "ax.set_xlabel(\"Occupation\")\n",
        "ax.set_ylabel(\"Proportion of Records\")\n",
        "\n",
        "# new_ticks = [i.get_text() for i in ax.get_xticklabels()]\n",
        "# plt.xticks(range(0, len(new_ticks), 10), new_ticks[::10])\n",
        "ax.set_xticklabels(ax.get_xticklabels(), rotation=40, ha=\"right\")\n",
        "\n",
        "total = df.shape[0]*1.\n",
        "ax.set_yticklabels(map('{:.1f}%'.format, 100*ax.yaxis.get_majorticklocs()/total))\n",
        "ax.legend(['less than or equal to 50K', 'greater than 50K'], loc='upper right', title='Income')\n",
        "\n",
        "plt.tight_layout()\n",
        "plt.show()"
      ],
      "execution_count": null,
      "outputs": [
        {
          "output_type": "stream",
          "text": [
            "<ipython-input-71-9f3bc07c00f5>:16: UserWarning: FixedFormatter should only be used together with FixedLocator\n",
            "  ax.set_yticklabels(map('{:.1f}%'.format, 100*ax.yaxis.get_majorticklocs()/total))\n"
          ],
          "name": "stderr"
        },
        {
          "output_type": "display_data",
          "data": {
            "image/png": "[encoded data removed]",
            "text/plain": [
              "<Figure size 576x432 with 1 Axes>"
            ]
          },
          "metadata": {
            "tags": [],
            "needs_background": "light"
          }
        }
      ]
    },
    {
      "cell_type": "markdown",
      "metadata": {
        "id": "DiFAgs6suHJA"
      },
      "source": [
        "## Race"
      ]
    },
    {
      "cell_type": "code",
      "metadata": {
        "colab": {
          "base_uri": "https://localhost:8080/",
          "height": 454
        },
        "id": "ujDusgnLmi80",
        "outputId": "585500e4-4589-4994-ff8d-619b8b1680d8"
      },
      "source": [
        "# Plotting the income by age\n",
        "plt.figure(figsize=(8,6))\n",
        "ax = sns.countplot(x = 'race', hue = 'income', data = df,  saturation=1)\n",
        "ax.set_title('Income by Race', fontsize = 14)\n",
        "ax.legend(['less than or equal to 50K', 'greater than 50K'])\n",
        "ax.set_xlabel('Race')\n",
        "ax.set_ylabel('Number of Records')\n",
        "\n",
        "# new_ticks = [i.get_text() for i in ax.get_xticklabels()]\n",
        "# plt.xticks(range(0, len(new_ticks), 10), new_ticks[::10])\n",
        "ax.set_xticklabels(ax.get_xticklabels(), rotation=30)\n",
        "\n",
        "with_perc(ax, df['race'] ,5,2)\n",
        "    \n",
        "plt.show()"
      ],
      "execution_count": 56,
      "outputs": [
        {
          "output_type": "display_data",
          "data": {
            "image/png": "[encoded data removed]",
            "text/plain": [
              "<Figure size 576x432 with 1 Axes>"
            ]
          },
          "metadata": {
            "tags": [],
            "needs_background": "light"
          }
        }
      ]
    },
    {
      "cell_type": "code",
      "metadata": {
        "colab": {
          "base_uri": "https://localhost:8080/"
        },
        "id": "7-EvJwc09y59",
        "outputId": "3e7375b4-db90-4d0b-9203-4619912ea7ec"
      },
      "source": [
        "df.race.value_counts()"
      ],
      "execution_count": 70,
      "outputs": [
        {
          "output_type": "execute_result",
          "data": {
            "text/plain": [
              "White                 38903\n",
              "Black                  4228\n",
              "Asian-Pac-Islander     1303\n",
              "Amer-Indian-Eskimo      435\n",
              "Other                   353\n",
              "Name: race, dtype: int64"
            ]
          },
          "metadata": {
            "tags": []
          },
          "execution_count": 70
        }
      ]
    },
    {
      "cell_type": "code",
      "metadata": {
        "colab": {
          "base_uri": "https://localhost:8080/"
        },
        "id": "4CBJzpRd9-K0",
        "outputId": "9fc505ad-7d03-4e83-9a4f-795252b003a9"
      },
      "source": [
        "df[df['income']==1]['race'].value_counts()"
      ],
      "execution_count": 71,
      "outputs": [
        {
          "output_type": "execute_result",
          "data": {
            "text/plain": [
              "White                 10207\n",
              "Black                   534\n",
              "Asian-Pac-Islander      369\n",
              "Amer-Indian-Eskimo       53\n",
              "Other                    45\n",
              "Name: race, dtype: int64"
            ]
          },
          "metadata": {
            "tags": []
          },
          "execution_count": 71
        }
      ]
    },
    {
      "cell_type": "markdown",
      "metadata": {
        "id": "PD54yoUOwH38"
      },
      "source": [
        "It looks like approximately 28% of Asian Pacific Islanders, 26% of whites, and less than 15% of all other races make over 50K. Since 86% of the samples are white, the results for all other races may not be reliable. "
      ]
    },
    {
      "cell_type": "code",
      "metadata": {
        "id": "9nxulZKFD2cW"
      },
      "source": [
        "total = len(df)\n",
        "race = list(df[\"race\"].value_counts().index.values)\n",
        "counts = list(df[\"race\"].value_counts().values)\n",
        "\n",
        "race_dict = dict(zip(race, counts))\n",
        "race_df = pd.DataFrame(race_dict, index=range(1)).T\n",
        "race_df['% of total'] = race_df[0]/total*100\n",
        "race_df"
      ],
      "execution_count": null,
      "outputs": []
    },
    {
      "cell_type": "markdown",
      "metadata": {
        "id": "oIMlFz0xEed1"
      },
      "source": [
        "## Education"
      ]
    },
    {
      "cell_type": "code",
      "metadata": {
        "id": "lR2aQtTYyV3T"
      },
      "source": [
        "def with_perc_font(plot, feature, Number_of_categories, hue_categories):\n",
        "    a = [p.get_height() for p in plot.patches]\n",
        "    patch = [p for p in plot.patches]\n",
        "    for i in range(Number_of_categories):\n",
        "        total = feature.value_counts().values[i]\n",
        "        for j in range(hue_categories):\n",
        "            percentage = '{:.1f}%'.format(100* a[(j*Number_of_categories + i)]/total)\n",
        "            x = patch[(j*Number_of_categories + i)].get_x() + patch[(j*Number_of_categories + i)].get_width() / 2 - 0.1\n",
        "            y = patch[(j*Number_of_categories + i)].get_y() + patch[(j*Number_of_categories + i)].get_height() \n",
        "            ax.annotate(percentage, (x, y), size = 8)\n",
        "    plt.show()"
      ],
      "execution_count": 57,
      "outputs": []
    },
    {
      "cell_type": "code",
      "metadata": {
        "id": "kT1Qvioxmi84",
        "colab": {
          "base_uri": "https://localhost:8080/",
          "height": 459
        },
        "outputId": "e159a2fb-f99d-4aaf-9a69-ec3f8caef890"
      },
      "source": [
        "# Use occupation percentage of '>50K' as order of the plot\n",
        "ordered = ['Doctorate', 'Masters', 'Prof-school', 'Bachelors', 'Assoc-acdm', 'Assoc-voc', 'Some-college', 'HS-grad', \n",
        "       '12th', '11th', '10th', '9th', '7th-8th', '5th-6th', '1st-4th', 'Preschool']\n",
        "\n",
        "plt.figure(figsize=(10,6))\n",
        "\n",
        "# Plotting the income by age\n",
        "plt.figure(figsize=(8,6))\n",
        "ax = sns.countplot(x = 'education', hue = 'income', order = ordered, data = df, saturation=1)\n",
        "ax.set_title('Income by Education', fontsize = 14)\n",
        "ax.set_xlabel(\"Education\")\n",
        "ax.set_ylabel(\"Proportion of Records\")\n",
        "\n",
        "# new_ticks = [i.get_text() for i in ax.get_xticklabels()]\n",
        "# plt.xticks(range(0, len(new_ticks), 10), new_ticks[::10])\n",
        "ax.set_xticklabels(ax.get_xticklabels(), rotation=40, ha=\"right\")\n",
        "\n",
        "total = df.shape[0]*1.\n",
        "ax.set_yticklabels(map('{:.1f}%'.format, 100*ax.yaxis.get_majorticklocs()/total))\n",
        "ax.legend(['less than or equal to 50K', 'greater than 50K'], loc=1, title='Income')\n",
        "\n",
        "plt.tight_layout()\n",
        "plt.show()"
      ],
      "execution_count": 59,
      "outputs": [
        {
          "output_type": "display_data",
          "data": {
            "text/plain": [
              "<Figure size 720x432 with 0 Axes>"
            ]
          },
          "metadata": {
            "tags": []
          }
        },
        {
          "output_type": "display_data",
          "data": {
            "image/png": "[encoded data removed]",
            "text/plain": [
              "<Figure size 576x432 with 1 Axes>"
            ]
          },
          "metadata": {
            "tags": [],
            "needs_background": "light"
          }
        }
      ]
    },
    {
      "cell_type": "markdown",
      "metadata": {
        "id": "zvFFHAOj335Q"
      },
      "source": [
        "## Hours per week"
      ]
    },
    {
      "cell_type": "code",
      "metadata": {
        "colab": {
          "base_uri": "https://localhost:8080/",
          "height": 551
        },
        "id": "9PXNHMfK36k9",
        "outputId": "1242fc7d-62f6-473d-c003-258650755ad4"
      },
      "source": [
        "df['hour_worked_bins'] = ['<40' if i < 40 else '40-60' if i <= 60 else '>60'  for i in df['hours-per-week']]\n",
        "df['hour_worked_bins'] = df['hour_worked_bins'].astype('category')\n",
        "hours_per_week = round(pd.crosstab(df.hour_worked_bins, df.income).div(pd.crosstab(df.hour_worked_bins, df.income).apply(sum,1),0),2)\n",
        "\n",
        "hours_per_week.sort_values(by = 1, inplace = True)\n",
        "ax = hours_per_week.plot(kind ='bar', figsize = (10,8))\n",
        "ax.set_title('Income by Hours-per-week', fontsize = 14)\n",
        "ax.legend(['less than or equal to 50K', 'greater than 50K'], loc=1, title='Income')\n",
        "ax.set_xlabel('Hours per week')\n",
        "ax.set_ylabel('Proportion of population')"
      ],
      "execution_count": 69,
      "outputs": [
        {
          "output_type": "execute_result",
          "data": {
            "text/plain": [
              "Text(0, 0.5, 'Proportion of population')"
            ]
          },
          "metadata": {
            "tags": []
          },
          "execution_count": 69
        },
        {
          "output_type": "display_data",
          "data": {
            "image/png": "[encoded data removed]",
            "text/plain": [
              "<Figure size 720x576 with 1 Axes>"
            ]
          },
          "metadata": {
            "tags": [],
            "needs_background": "light"
          }
        }
      ]
    },
    {
      "cell_type": "markdown",
      "metadata": {
        "id": "kj4tSWyV69ZD"
      },
      "source": [
        "It appears that the more hours per week worked, the more likely you are to make over 50K."
      ]
    },
    {
      "cell_type": "markdown",
      "metadata": {
        "id": "rBH1Zyjdtmps"
      },
      "source": [
        "## Combinations of columns"
      ]
    },
    {
      "cell_type": "code",
      "metadata": {
        "colab": {
          "base_uri": "https://localhost:8080/",
          "height": 910
        },
        "id": "Z0qJQ-BWmi8v",
        "outputId": "07181fdf-3c6f-4e58-ae9f-44191fb0e8ca"
      },
      "source": [
        "fig, ax =plt.subplots(2,1, figsize = (8, 12))\n",
        "\n",
        "# Initiate plot\n",
        "sns.countplot(x = 'age', hue = 'income', data = df[df.gender=='Female'], saturation=1, ax=ax[0])\n",
        "sns.countplot(x = 'age', hue = 'income', data = df[df.gender=='Male'], saturation=1, ax=ax[1])\n",
        "\n",
        "# Add titles\n",
        "ax[0].set_title('Female', loc='center', fontsize = 14)\n",
        "ax[1].set_title('Male', loc='center', fontsize = 14)\n",
        "\n",
        "# Add labels\n",
        "ax[0].set_xlabel(\"Age\")\n",
        "ax[1].set_xlabel(\"Age\")\n",
        "ax[0].set_ylabel(\"Proportion of Records\")\n",
        "ax[1].set_ylabel(\"Proportion of Records\")\n",
        "\n",
        "# Add x_axis ticks\n",
        "new_ticks = [i.get_text() for i in ax[0].get_xticklabels()]\n",
        "ax[0].set_xticks(range(0, len(new_ticks), 10))\n",
        "ax[0].set_xticklabels(new_ticks[::10])\n",
        "ax[1].set_xticks(range(0, len(new_ticks), 10))\n",
        "ax[1].set_xticklabels(new_ticks[::10])\n",
        "\n",
        "# Optimize y_axis ticks\n",
        "total_F = df[df.gender=='Female'].shape[0]*1.\n",
        "total_M = df[df.gender=='Male'].shape[0]*1.\n",
        "ax[0].set_yticklabels(map('{:.1f}%'.format, 100*ax[0].yaxis.get_majorticklocs()/total_F))\n",
        "ax[1].set_yticklabels(map('{:.1f}%'.format, 100*ax[1].yaxis.get_majorticklocs()/total_M))\n",
        "\n",
        "# Change legend location\n",
        "ax[0].legend(['less than or equal to 50K', 'greater than 50K'], loc='upper right', title='Income')\n",
        "ax[1].legend(['less than or equal to 50K', 'greater than 50K'], loc='upper right', title='Income')\n",
        "\n",
        "# Set suptitle\n",
        "fig.suptitle(\"Income by Age and Gender\", fontsize = 16, y = 1.03)\n",
        "\n",
        "fig.tight_layout()\n",
        "fig.show()"
      ],
      "execution_count": 20,
      "outputs": [
        {
          "output_type": "display_data",
          "data": {
            "image/png": "[encoded data removed]",
            "text/plain": [
              "<Figure size 576x864 with 2 Axes>"
            ]
          },
          "metadata": {
            "tags": [],
            "needs_background": "light"
          }
        }
      ]
    },
    {
      "cell_type": "markdown",
      "metadata": {
        "id": "GBnY-q9hisZO"
      },
      "source": [
        "In these graphs, you can see that the proportion of males making over 50K rises until the age of 47 when it remains high through retirement age. For females, the proportion rises through the age of 40 and then remains the same through retirement age. "
      ]
    },
    {
      "cell_type": "code",
      "metadata": {
        "id": "eIc91g-hmi86",
        "colab": {
          "base_uri": "https://localhost:8080/",
          "height": 910
        },
        "outputId": "a203c1d5-fc15-47ef-ec7f-6a78d241a86e"
      },
      "source": [
        "fig, ax =plt.subplots(2,1, figsize = (8, 12))\n",
        "\n",
        "order = ['White', 'Black', 'Asian-Pac-Islander', 'Amer-Indian-Eskimo', 'Other']\n",
        "\n",
        "# Initiate plot\n",
        "sns.countplot(x = 'race', hue = 'income', data = df[df.gender=='Female'], saturation=1, ax=ax[0], order=order)\n",
        "sns.countplot(x = 'race', hue = 'income', data = df[df.gender=='Male'], saturation=1, ax=ax[1], order=order)\n",
        "\n",
        "# Add titles\n",
        "ax[0].set_title('Female', loc='center', fontsize = 14)\n",
        "ax[1].set_title('Male', loc='center', fontsize = 14)\n",
        "\n",
        "# Add labels\n",
        "ax[0].set_xlabel(\"Race\")\n",
        "ax[1].set_xlabel(\"Race\")\n",
        "ax[0].set_ylabel(\"Proportion of Records\")\n",
        "ax[1].set_ylabel(\"Proportion of Records\")\n",
        "\n",
        "\n",
        "\n",
        "# Optimize y_axis ticks\n",
        "total_F = df[df.gender=='Female'].shape[0]*1.\n",
        "total_M = df[df.gender=='Male'].shape[0]*1.\n",
        "ax[0].set_yticklabels(map('{:.1f}%'.format, 100*ax[0].yaxis.get_majorticklocs()/total_F))\n",
        "ax[1].set_yticklabels(map('{:.1f}%'.format, 100*ax[1].yaxis.get_majorticklocs()/total_M))\n",
        "\n",
        "# Change legend location\n",
        "ax[0].legend(['less than or equal to 50K', 'greater than 50K'], loc='upper right', title='Income')\n",
        "ax[1].legend(['less than or equal to 50K', 'greater than 50K'], loc='upper right', title='Income')\n",
        "\n",
        "# Set suptitle\n",
        "fig.suptitle(\"Income by Race and Gender\", fontsize = 16, y = 1.03)\n",
        "\n",
        "fig.tight_layout()\n",
        "fig.show()"
      ],
      "execution_count": 63,
      "outputs": [
        {
          "output_type": "display_data",
          "data": {
            "image/png": "[encoded data removed]",
            "text/plain": [
              "<Figure size 576x864 with 2 Axes>"
            ]
          },
          "metadata": {
            "tags": [],
            "needs_background": "light"
          }
        }
      ]
    },
    {
      "cell_type": "markdown",
      "metadata": {
        "id": "R7KovSOd2ywW"
      },
      "source": [
        "From these graphs, it appears that males of all races have higher proportions making over 50K."
      ]
    },
    {
      "cell_type": "markdown",
      "metadata": {
        "id": "YngXgle08f6j"
      },
      "source": [
        "## Summary"
      ]
    },
    {
      "cell_type": "markdown",
      "metadata": {
        "id": "3VwFn-tw8i0I"
      },
      "source": [
        "This data set has not been sampled evenly. The samples are approximately 65% male and 85% white. Knowing that the data is skewed, it does appear that gender, race, education, occupation, and the number of hours-per-week worked all impact whether someone will make over or under 50K per year. \n",
        "\n",
        "In further studies, it would be beneficial to have a more representative sample of the population."
      ]
    },
    {
      "cell_type": "code",
      "metadata": {
        "id": "PzTFxKJF8huA"
      },
      "source": [
        ""
      ],
      "execution_count": null,
      "outputs": []
    }
  ]
}